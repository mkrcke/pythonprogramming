{
 "cells": [
  {
   "cell_type": "markdown",
   "metadata": {},
   "source": [
    "## Before submitting\n",
    "1. Before you turn this problem in, make sure everything runs as expected. First, **restart the kernel** (in the menubar, select Kernel$\\rightarrow$Restart) and then **run all cells** (in the menubar, select Cell$\\rightarrow$Run All).\n",
    "\n",
    "2. Make sure that no assertions fail or exceptions occur, otherwise points will be subtracted.\n",
    "\n",
    "3. After you submit the notebook more tests will be run on your code. The fact that no assertions fail on your computer localy does not guarantee that completed the exercise correctly.\n",
    "\n",
    "4. Please submit only the `*.ipynb` file.\n",
    "\n",
    "5. Make sure you fill in any place that says `YOUR CODE HERE` or \"YOUR ANSWER HERE\". Edit only between `YOUR CODE HERE` and `END YOUR CODE`.\n",
    "\n",
    "6. Make sure to use Python 3, not Python 2.\n",
    "\n",
    "Fill your group name and collaborators below:"
   ]
  },
  {
   "cell_type": "code",
   "execution_count": 1,
   "metadata": {},
   "outputs": [],
   "source": [
    "GROUPNAME = \"7\"\n",
    "COLLABORATORS = \"Kleinemeier, Jana; von Petersdorff-Campen, Jost; Kricke, Maximilian\""
   ]
  },
  {
   "cell_type": "markdown",
   "metadata": {},
   "source": [
    "---"
   ]
  },
  {
   "cell_type": "markdown",
   "metadata": {},
   "source": [
    "# Exercise Sheet 2: Timing, Numpy, Plotting\n",
    "\n",
    "The previous exercise sheet introduced several methods for classification: decision trees, nearest neighbors, and nearest means. Of those, the one that could learn from the data, and that also offered enough complexity to produce an accurate decision function was k-nearest neighbors. However, nearest neighbors can be slow when implemented in pure Python (i.e. with loops). This is especially the case when the number of data points or input dimensions is large.\n",
    "\n",
    "In this exercise sheet, we will speed up nearest neighbors by utilizing `numpy` and `scipy` packages. Your task will be to **replace list-based operations by vector-based operations** between numpy arrays. The speed and correctness of the implementations will then be tested. In particular, performance graphs will be drawn using the library `matplotlib`.\n",
    "\n",
    "Make sure to have installed all the required packages (e.g. sklearn, scipy). For this you can e.g. use `conda install <package>` or `pip install <package>`."
   ]
  },
  {
   "cell_type": "markdown",
   "metadata": {},
   "source": [
    "## Python Nearest Neighbor\n",
    "\n",
    "The most basic element of computation of nearest neighbors is its distance function relating two arbitrary data points `x1` and `x2`. We assume that these points are iterable (i.e. we can use a loop over their dimensions). One way among others to compute the square Euclidean distance between two points is by computing the sum of the component-wise distances."
   ]
  },
  {
   "cell_type": "code",
   "execution_count": 1,
   "metadata": {
    "deletable": false,
    "editable": false,
    "nbgrader": {
     "cell_type": "code",
     "checksum": "97647017c26037054b7a01b261a9e9c9",
     "grade": false,
     "grade_id": "cell-1b37d48b31ec0e79",
     "locked": true,
     "schema_version": 3,
     "solution": false
    }
   },
   "outputs": [],
   "source": [
    "def pydistance(x1, x2):\n",
    "    return sum([(x1d - x2d) ** 2 for x1d, x2d in zip(x1, x2)])"
   ]
  },
  {
   "cell_type": "markdown",
   "metadata": {},
   "source": [
    "where we use the prefix \"`py-`\" of the function to indicate that the latter makes use of pure `Python` instead of `numpy`. Once the distance matrix has been implemented, the nearest neighbor for a given unlabeled point `u` that we would like to classify is obtained by iterating over all points in the training set `(X, Y)`, selecting the point with smallest distance to `u`, and returning its corresponding label. Here `X` denotes the list of inputs in the training set and `Y` denotes the list of labels."
   ]
  },
  {
   "cell_type": "code",
   "execution_count": 2,
   "metadata": {
    "deletable": false,
    "editable": false,
    "nbgrader": {
     "cell_type": "code",
     "checksum": "8158c17a5f44f10a8549f046d6cb00bd",
     "grade": false,
     "grade_id": "cell-66259b233d864979",
     "locked": true,
     "schema_version": 3,
     "solution": false
    }
   },
   "outputs": [],
   "source": [
    "def pynearest(u, X, Y, distance=pydistance):\n",
    "    xbest = None\n",
    "    ybest = None\n",
    "    dbest = float('inf')\n",
    "    \n",
    "    for x, y in zip(X, Y):\n",
    "        d = distance(u, x)\n",
    "        if d < dbest:\n",
    "            ybest = y\n",
    "            xbest = x\n",
    "            dbest = d\n",
    "            \n",
    "    return ybest"
   ]
  },
  {
   "cell_type": "markdown",
   "metadata": {},
   "source": [
    "Note that this function either uses function `pydistance` (given as default if the argument distance is not specified). Or one could specify as argument a more optimized function for distance compuation, for example, one that uses `numpy`. Finally, one might not be interested in classifying a single point, but many of them. The method below receives a collection of such unlabeled test points stored in the variable `U`. The function returns a list of predictions associated to each test point."
   ]
  },
  {
   "cell_type": "code",
   "execution_count": 3,
   "metadata": {
    "deletable": false,
    "editable": false,
    "nbgrader": {
     "cell_type": "code",
     "checksum": "41e2a05bf27243a2b2b92a2205935ef7",
     "grade": false,
     "grade_id": "cell-1673d3f81bce46ae",
     "locked": true,
     "schema_version": 3,
     "solution": false
    }
   },
   "outputs": [],
   "source": [
    "def pybatch(U, X, Y, nearest=pynearest, distance=pydistance):\n",
    "    return [nearest(u, X, Y, distance=distance) for u in U]"
   ]
  },
  {
   "cell_type": "markdown",
   "metadata": {},
   "source": [
    "Again, such function uses by default the Python nearest neighbor search (with a specified distance function). However, we can also specified a more optimized nearest neighbor function, for example, based on `numpy`. Finally, one could consider an alternative function to `pybatch` that would use `numpy` from the beginning to the end. The implementation of such more optimized functions, and the testing of their correct behavior and higher performance will be the object of this exercise sheet."
   ]
  },
  {
   "cell_type": "markdown",
   "metadata": {},
   "source": [
    "## Testing and correctness\n",
    "\n",
    "As a starting point, the code below tests the output of the nearest neighbor algorithm for some toy dataset with fixed parameters. In particular, the function `data.toy(M,N,d)` generates a problem with `M` unlabeled test points stored in a matrix `U` of size `(M x d)`, then `N` labeled training points stored in a matrix `X` of size `(N x d)` and the output label is stored in a vector `Y` of size `N` composed of zeros and ones encoding the two possible classes. The variable `d` denotes the number of dimensions of each point. The toy dataset is pseudo-random, that is, for fixed parameters, it produce a random-looking dataset, but every time the method is called with the same parameters, the dataset is the same. The pseudo-randomness property will be useful to verify that each nearest neighbor implementation performs the same overall computation. Please check the `data.py` file within the exercise folder for the implementation details. "
   ]
  },
  {
   "cell_type": "code",
   "execution_count": 4,
   "metadata": {
    "deletable": false,
    "editable": false,
    "nbgrader": {
     "cell_type": "code",
     "checksum": "799947e60242cee8bb88b436ff734e51",
     "grade": false,
     "grade_id": "cell-79632e7653dd78cc",
     "locked": true,
     "schema_version": 3,
     "solution": false
    }
   },
   "outputs": [
    {
     "name": "stdout",
     "output_type": "stream",
     "text": [
      "[1, 1, 1, 0, 0, 1, 0, 1, 1, 0, 1, 1, 1, 0, 1, 0, 1, 1, 1, 0]\n"
     ]
    }
   ],
   "source": [
    "import data\n",
    "U, X, Y = data.toy(20, 100, 50)\n",
    "print(pybatch(U, X, Y))"
   ]
  },
  {
   "cell_type": "markdown",
   "metadata": {},
   "source": [
    "In particular, the output of this function will help us to verify that the more optimized `numpy`-based versions of nearest neighbor are still valid."
   ]
  },
  {
   "cell_type": "markdown",
   "metadata": {},
   "source": [
    "## Plotting and performance\n",
    "\n",
    "We now describe how to build a plot that relates a certain parameter of the dataset (e.g. the number of input dimensions `d` to the time required for the computation. We first initialize the basic plotting environment."
   ]
  },
  {
   "cell_type": "code",
   "execution_count": 5,
   "metadata": {},
   "outputs": [],
   "source": [
    "import matplotlib\n",
    "from matplotlib import pyplot as plt\n",
    "%matplotlib inline\n",
    "from IPython.display import set_matplotlib_formats\n",
    "set_matplotlib_formats('pdf', 'png')\n",
    "plt.rcParams['savefig.dpi'] = 90"
   ]
  },
  {
   "cell_type": "markdown",
   "metadata": {},
   "source": [
    "The command \"`%matplotlib inline`\" tells IPython notebook that the plots should be rendered inside the notebook. \n",
    "\n",
    "The following code plots the computation time of predicting `100` points from the test set using a training set of size `100`, and where we vary the number of input dimensions."
   ]
  },
  {
   "cell_type": "code",
   "execution_count": 6,
   "metadata": {
    "deletable": false,
    "editable": false,
    "nbgrader": {
     "cell_type": "code",
     "checksum": "9e61d5e6affc1daeb4bfb07157620ec7",
     "grade": false,
     "grade_id": "cell-46485712351bdfcf",
     "locked": true,
     "schema_version": 3,
     "solution": false
    }
   },
   "outputs": [
    {
     "data": {
      "application/pdf": "[encoded data removed]",
      "image/png": "[encoded data removed]",
      "text/plain": [
       "<Figure size 360x216 with 1 Axes>"
      ]
     },
     "metadata": {
      "needs_background": "light"
     },
     "output_type": "display_data"
    }
   ],
   "source": [
    "import timeit\n",
    "from statistics import mean\n",
    "# Values for the number of dimensions d to test\n",
    "dlist = [1, 2, 5, 10, 20, 50, 100, 200, 500, 1000]\n",
    "\n",
    "# Measure the computation time for each choice of number of dimensions d\n",
    "tlist = []\n",
    "for d in dlist:\n",
    "    U, X, Y = data.toy(100, 100, d)  \n",
    "    # get the average of three runs\n",
    "    delta = mean(timeit.repeat(lambda : pybatch(U,X,Y), number=1, repeat=3))\n",
    "    tlist.append(delta)\n",
    "\n",
    "# Plot the results in a graph\n",
    "fig = plt.figure(figsize=(5, 3))\n",
    "plt.plot(dlist, tlist, '-o')\n",
    "plt.xscale('log'); plt.yscale('log'); plt.xlabel('d'); plt.ylabel('time'); plt.grid(True)\n",
    "\n"
   ]
  },
  {
   "cell_type": "markdown",
   "metadata": {},
   "source": [
    "The time on the vertical axis is in seconds. Note that the exact computation time depends on the speed of your computer. As expected, the computation time increases with the number of input dimensions. Unfortunately, for the small dataset considered here (`100` training and test points of `100` dimensions each), the algorithm already takes more than one second to execute. Thus, it is necessary for practical applications (e.g. the digit recognition task that we will consider at the end of this exercise sheet) to accelerate this nearest neighbor algorithm."
   ]
  },
  {
   "cell_type": "markdown",
   "metadata": {},
   "source": [
    "## 1. Accelerating the distance computation (25 P)\n",
    "\n",
    "In this first exercise, we would like to accelerate the function that compute pairwise distances.\n",
    "\n",
    "**a)** Create a new function `npdistance(x1,x2)` with the same output as `pydistance(x1,x2)`, but that computes the squared Euclidean distance using `numpy` operations. Verify that in both cases (i.e. using either `npdistance` or `pydistance` in the function `pybatch`) the output for the above toy example with parameters `M=20`, `N=100`, `d=50` (i.e. `data.toy(20,100,50)`) remains the same.\n",
    "\n",
    "**Note**: The input vectors will always be `Numpy Arrays` or a `Lists of floats`."
   ]
  },
  {
   "cell_type": "code",
   "execution_count": 44,
   "metadata": {
    "deletable": false,
    "nbgrader": {
     "cell_type": "code",
     "checksum": "4098552ebf7ae8ed753ad831c9643183",
     "grade": false,
     "grade_id": "cell-19fc7493b2e8f798",
     "locked": false,
     "schema_version": 3,
     "solution": true
    }
   },
   "outputs": [],
   "source": [
    "import numpy as np\n",
    "def npdistance(x1, x2):\n",
    "    '''\n",
    "    Calculates the eucledian distance between two data points x1, x2\n",
    "    \n",
    "    Args:\n",
    "        x1, x2 (vector-like): Two vectors (ndim=1) for which we want to calculate the distance\n",
    "        \n",
    "    Returns: \n",
    "        float: The distance between the two vectors x1, x2\n",
    "    '''\n",
    "    # >>>>> YOUR CODE HERE\n",
    "    x1 = np.array(x1)\n",
    "    x2 = np.array(x2)\n",
    "    return(np.sum((x1-x2)**2))\n",
    "    \n",
    "    # <<<<< END YOUR CODE"
   ]
  },
  {
   "cell_type": "code",
   "execution_count": 45,
   "metadata": {
    "deletable": false,
    "editable": false,
    "nbgrader": {
     "cell_type": "code",
     "checksum": "07e21dd6889b3de34a9d29e975573f55",
     "grade": true,
     "grade_id": "cell-bf963bc80a4dfff6",
     "locked": true,
     "points": 15,
     "schema_version": 3,
     "solution": false
    }
   },
   "outputs": [],
   "source": [
    "# Verify your function\n",
    "assert npdistance([1,2,3], [2,3,4]) == 3\n",
    "np.testing.assert_allclose(pybatch(U, X, Y, distance=pydistance), pybatch(U, X, Y, distance=npdistance))"
   ]
  },
  {
   "cell_type": "code",
   "execution_count": null,
   "metadata": {
    "deletable": false,
    "editable": false,
    "nbgrader": {
     "cell_type": "code",
     "checksum": "06d329155e3c1c9ab40a72101bcd6a0d",
     "grade": true,
     "grade_id": "cell-6aab6a9be580b5ed",
     "locked": true,
     "points": 0,
     "schema_version": 3,
     "solution": false,
     "task": false
    }
   },
   "outputs": [],
   "source": []
  },
  {
   "cell_type": "markdown",
   "metadata": {},
   "source": [
    "**b)** Create a plot similar to the one above, but where the computation time required by both methods are shown in a superposed manner. Here, we fix `M=100`, `N=100`, and we let `d` vary from `1` to `1000`, taking the list of values `[1, 2, 5, 10, 20, 50, 100, 200, 500, 1000]`."
   ]
  },
  {
   "cell_type": "code",
   "execution_count": 46,
   "metadata": {
    "deletable": false,
    "nbgrader": {
     "cell_type": "code",
     "checksum": "795181f0e5f417997505e2fd4a03b7bd",
     "grade": true,
     "grade_id": "cell-42315eeb7aedb147",
     "locked": false,
     "points": 5,
     "schema_version": 3,
     "solution": true,
     "task": false
    }
   },
   "outputs": [
    {
     "data": {
      "application/pdf": "[encoded data removed]",
      "image/png": "[encoded data removed]",
      "text/plain": [
       "<Figure size 1080x360 with 1 Axes>"
      ]
     },
     "metadata": {
      "needs_background": "light"
     },
     "output_type": "display_data"
    }
   ],
   "source": [
    "# >>>>> YOUR CODE HERE\n",
    "dlist = [1, 2, 5, 10, 20, 50, 100, 200, 500, 1000]\n",
    "\n",
    "tlist = []\n",
    "tlist_2 = []\n",
    "for d in dlist:\n",
    "    U, X, Y = data.toy(100, 100, d)  \n",
    "    # get the average of three runs\n",
    "    delta = mean(timeit.repeat(lambda : pybatch(U,X,Y, distance = pydistance), number=1, repeat=3))\n",
    "    delta_2 = mean(timeit.repeat(lambda : pybatch(U,X,Y, distance = npdistance), number=1, repeat=3))\n",
    "    tlist.append(delta)\n",
    "    tlist_2.append(delta_2)\n",
    "\n",
    "\n",
    "import matplotlib\n",
    "import matplotlib.pyplot as plt\n",
    "# Needed in Jupyter Notebook\n",
    "%matplotlib inline\n",
    "plt.figure(figsize=(15,5))\n",
    "plt.plot(dlist, tlist, '-*', label = \"python\")\n",
    "plt.plot(dlist, tlist_2, '-*', label = \"numpy\")\n",
    "plt.xscale('log'); plt.yscale('log'); plt.xlabel('d'); plt.ylabel('time'); plt.grid(True)\n",
    "_=plt.legend(loc='lower right', fontsize=15)\n",
    "\n",
    "# <<<<< END YOUR CODE"
   ]
  },
  {
   "cell_type": "markdown",
   "metadata": {},
   "source": [
    "**c)** Based on your results, explain what kind of speedup `numpy` provides, and in what regime do you expect the speedup to be the most important:\n",
    "\n",
    "**Note**: For this exercise you only need to provide a free text answer"
   ]
  },
  {
   "cell_type": "code",
   "execution_count": 47,
   "metadata": {
    "deletable": false,
    "nbgrader": {
     "cell_type": "code",
     "checksum": "9a04481b19eea27109169def8007ce59",
     "grade": true,
     "grade_id": "cell-9516251f178579b7",
     "locked": false,
     "points": 5,
     "schema_version": 3,
     "solution": true,
     "task": false
    }
   },
   "outputs": [],
   "source": [
    "# Explain the speedup that numpy provides\n",
    "# >>>>> YOUR CODE HERE\n",
    "# As the plot shows, the computational time for high dimensional data decreases significantly\n",
    "# when using numpy in contrast to python.\n",
    "# While there is almost no increase in the computational time [in seconds] iterating through dlist for the numpy computation,\n",
    "# we observe an (almost) linearly decreasing computational time for the use of the looping calculation. However, for a small \n",
    "# amount of rows - d = [1,2,5] - the pythonic way outperforms the numpy way. The critical point in the computational\n",
    "# time is reached somewhere at d=[6,10] where python comp. time exceeds the numpy comp. time. The constant\n",
    "# computational time for numpy - seemingly regardless of the value of d - comes in handy \n",
    "# for the treatment of high-dimensional data and huge matrix multiplications. To give in example, \n",
    "# image recognition requires the computation of high dimensional data matrices and therefore numpy objects should be used. \n",
    "# <<<<< END YOUR CODE"
   ]
  },
  {
   "cell_type": "markdown",
   "metadata": {},
   "source": [
    "## 2. Accelerating the nearest neighbor search (25 P)\n",
    "\n",
    "Motivated by the success of the `numpy` optimized distance computation, we would like further accelerate the code by performing nearest neighbor search directly in `numpy`. This means that your function cannot use `for`/`while` loops.\n",
    "\n",
    "**a)** Create a new function `npnearest(u,X,Y)` as an alternative to the function `pynearest(u,X,Y,distance=npdistance)` that we have used in the previous exercise. Again, verify your function for the same toy example as before (i.e. `data.toy(20,100,50)`)."
   ]
  },
  {
   "cell_type": "code",
   "execution_count": 48,
   "metadata": {
    "deletable": false,
    "nbgrader": {
     "cell_type": "code",
     "checksum": "42b0cb05467d71d265f9f3468fc952a9",
     "grade": false,
     "grade_id": "cell-abf6acbfd89109a2",
     "locked": false,
     "schema_version": 3,
     "solution": true
    }
   },
   "outputs": [],
   "source": [
    "def npnearest(u: np.ndarray, X: np.ndarray, Y: np.ndarray, distance: 'callbale'=npdistance):\n",
    "    '''\n",
    "    Finds x1 so that x1 is in X and u and x1 have a minimal distance (according to the \n",
    "    provided distance function) compared to all other data points in X. Returns the label of x1\n",
    "    \n",
    "    Args:\n",
    "        u (np.ndarray): The vector (ndim=1) we want to classify\n",
    "        X (np.ndarray): A matrix (ndim=2) with training data points (vectors)\n",
    "        Y (np.ndarray): A vector containing the label of each data point in X\n",
    "        distance (callable): A function that receives two inputs and defines the distance function used\n",
    "        \n",
    "    Returns:\n",
    "        int: The label of the data point which is closest to `u`\n",
    "    '''\n",
    "    # >>>>> YOUR CODE HERE\n",
    "    label=Y[np.argmin(list(map(lambda x: distance(u,x), X)))]\n",
    "    return label\n",
    "    # <<<<< END YOUR CODE\n",
    "    "
   ]
  },
  {
   "cell_type": "code",
   "execution_count": 49,
   "metadata": {
    "deletable": false,
    "editable": false,
    "nbgrader": {
     "cell_type": "code",
     "checksum": "d18a8b407277c5957e04301711b7c2c3",
     "grade": true,
     "grade_id": "cell-9621f0349d332a46",
     "locked": true,
     "points": 15,
     "schema_version": 3,
     "solution": false
    }
   },
   "outputs": [],
   "source": [
    "# Verify your function\n",
    "np.testing.assert_allclose(\n",
    "    pybatch(U, X, Y, nearest=pynearest), \n",
    "    pybatch(U, X, Y, nearest=npnearest, distance=npdistance)\n",
    ")"
   ]
  },
  {
   "cell_type": "markdown",
   "metadata": {
    "deletable": false,
    "editable": false,
    "nbgrader": {
     "cell_type": "markdown",
     "checksum": "27debefe188fd058b5cfb7dc12cb443d",
     "grade": false,
     "grade_id": "cell-92654906e120fa42",
     "locked": true,
     "schema_version": 3,
     "solution": false,
     "task": false
    }
   },
   "source": [
    "**b)** Create a plot similar to the one above, where the new method is compared to the previous one. Here, we fix `M=100`, `d=100`, and we let `N` take different values `[1, 2, 5, 10, 20, 50, 100, 200, 500, 1000]`."
   ]
  },
  {
   "cell_type": "code",
   "execution_count": 50,
   "metadata": {
    "deletable": false,
    "nbgrader": {
     "cell_type": "code",
     "checksum": "7e672ebe95da6d8d9dafa710e349913f",
     "grade": true,
     "grade_id": "cell-c0fdf389a1795330",
     "locked": false,
     "points": 10,
     "schema_version": 3,
     "solution": true,
     "task": false
    }
   },
   "outputs": [
    {
     "data": {
      "application/pdf": "[encoded data removed]",
      "image/png": "[encoded data removed]",
      "text/plain": [
       "<Figure size 1080x360 with 1 Axes>"
      ]
     },
     "metadata": {
      "needs_background": "light"
     },
     "output_type": "display_data"
    }
   ],
   "source": [
    "# >>>>> YOUR CODE HERE\n",
    "Nlist= [1, 2, 5, 10, 20, 50, 100, 200, 500, 1000]\n",
    "pylist = []\n",
    "for N in Nlist:\n",
    "    U, X, Y = data.toy(100, N, 100)  \n",
    "    # get the average of three runs\n",
    "    delta = mean(timeit.repeat(lambda : pybatch(U,X,Y, distance = pydistance), number=1, repeat=3))\n",
    "    pylist.append(delta)\n",
    "nplist= []\n",
    "for N in Nlist:\n",
    "    U, X, Y = data.toy(100, N, 100)  \n",
    "    # get the average of three runs\n",
    "    delta = mean(timeit.repeat(lambda : pybatch(U,X,Y, distance = npdistance), number=1, repeat=3))\n",
    "    nplist.append(delta)\n",
    "\n",
    "\n",
    "import matplotlib\n",
    "import matplotlib.pyplot as plt\n",
    "# Needed in Jupyter Notebook\n",
    "%matplotlib inline\n",
    "plt.figure(figsize=(15,5))\n",
    "plt.plot(Nlist, pylist, '-*', label = \"python\")\n",
    "plt.plot(Nlist, nplist, '-*', label = \"numpy\")\n",
    "plt.xscale('log'); plt.yscale('log'); plt.xlabel('d'); plt.ylabel('time'); plt.grid(True)\n",
    "_=plt.legend(loc='lower right', fontsize=15)\n",
    "\n",
    "# <<<<< END YOUR CODE"
   ]
  },
  {
   "cell_type": "markdown",
   "metadata": {},
   "source": [
    "## 3. Accelerating the processing of multiple test points (25 P)\n",
    "\n",
    "Not yet fully happy with the performance of the algorithm, we would like to further optimize it by avoiding performing a loop on the test points, and instead, classify them all at once.\n",
    "\n",
    "**a)** Create a new function `npbatch(U,X,Y)` as a replacement of the implementation `pybatch(U,X,Y,nearest=npnearest)` that we have built in the previous exercise. Inside this function, use [`scipy.spatial.distance.cdist`](https://docs.scipy.org/doc/scipy/reference/generated/scipy.spatial.distance.cdist.html) for the actual distance computation. Again, verify your function for the same toy example as before (i.e. `data.toy(20,100,50)`)."
   ]
  },
  {
   "cell_type": "code",
   "execution_count": 51,
   "metadata": {
    "deletable": false,
    "nbgrader": {
     "cell_type": "code",
     "checksum": "5a86c6dca34d148cc016727465e7dfc1",
     "grade": false,
     "grade_id": "cell-58ebbd1ea052789a",
     "locked": false,
     "schema_version": 3,
     "solution": true
    }
   },
   "outputs": [],
   "source": [
    "import scipy\n",
    "from scipy.spatial import distance\n",
    "def npbatch(U, X, Y, *args, **kwargs):\n",
    "    '''\n",
    "    This function has the same functionality as the `pybatch` function.\n",
    "    HOWEVER, the distance function is fixed (scipy.spatial.distance.cdist)\n",
    "    \n",
    "    Args:\n",
    "        U (np.ndarray): A matrix (ndim=2) containing multiple vectors which we want to classify\n",
    "        X (np.ndarray): A matrix (ndim=2) that represents the training data\n",
    "        Y (np.ndarray): A vector (ndim=1) containing the labels for each data point in X\n",
    "        \n",
    "        All other arguments are ignored. *args, **kwargs are only there for compatibility \n",
    "        with the `pybatch` function\n",
    "    '''\n",
    "    # >>>>> YOUR CODE HERE\n",
    "    distMat = distance.cdist(U, X, 'euclidean')\n",
    "    return Y[np.argmin(distMat, axis=1)]\n",
    "    # <<<<< END YOUR CODE"
   ]
  },
  {
   "cell_type": "code",
   "execution_count": 52,
   "metadata": {},
   "outputs": [],
   "source": [
    "U, X, Y = data.toy(20, 100, 50)"
   ]
  },
  {
   "cell_type": "code",
   "execution_count": 53,
   "metadata": {
    "deletable": false,
    "editable": false,
    "nbgrader": {
     "cell_type": "code",
     "checksum": "d73ce90939a4a3344c819ccdf3492c17",
     "grade": true,
     "grade_id": "cell-bf7e49de5ebddbf3",
     "locked": true,
     "points": 15,
     "schema_version": 3,
     "solution": false
    }
   },
   "outputs": [],
   "source": [
    "np.testing.assert_allclose(pybatch(U, X, Y), npbatch(U, X, Y))"
   ]
  },
  {
   "cell_type": "markdown",
   "metadata": {},
   "source": [
    "**b)** Create a plot comparing the computation time of the new implementation compared to the previous one. Here, we fix `N=100`, `d=100`, and we let `M` vary from `1` to `1000` with values `[1, 2, 5, 10, 20, 50, 100, 200, 500, 1000]`."
   ]
  },
  {
   "cell_type": "code",
   "execution_count": 54,
   "metadata": {
    "deletable": false,
    "nbgrader": {
     "cell_type": "code",
     "checksum": "542f1952b37c867d16f381b3d4b4f56d",
     "grade": true,
     "grade_id": "cell-6abe7c8024b632f8",
     "locked": false,
     "points": 10,
     "schema_version": 3,
     "solution": true
    }
   },
   "outputs": [
    {
     "data": {
      "application/pdf": "[encoded data removed]",
      "image/png": "[encoded data removed]",
      "text/plain": [
       "<Figure size 1080x360 with 1 Axes>"
      ]
     },
     "metadata": {
      "needs_background": "light"
     },
     "output_type": "display_data"
    }
   ],
   "source": [
    "# >>>>> YOUR CODE HERE\n",
    "Mlist= [1, 2, 5, 10, 20, 50, 100, 200, 500, 1000]\n",
    "pylist = []\n",
    "for M in Mlist:\n",
    "    U, X, Y = data.toy(100, 100, M)  \n",
    "    # get the average of three runs\n",
    "    delta = mean(timeit.repeat(lambda : pybatch(U,X,Y, distance = npdistance), number=1, repeat=3))\n",
    "    pylist.append(delta)\n",
    "nplist= []\n",
    "for M in Mlist:\n",
    "    U, X, Y = data.toy(100, 100, M)  \n",
    "    # get the average of three runs\n",
    "    delta = mean(timeit.repeat(lambda : npbatch(U,X,Y, distance = npdistance), number=1, repeat=3))\n",
    "    nplist.append(delta)\n",
    "\n",
    "\n",
    "import matplotlib\n",
    "import matplotlib.pyplot as plt\n",
    "# Needed in Jupyter Notebook\n",
    "%matplotlib inline\n",
    "plt.figure(figsize=(15,5))\n",
    "plt.plot(Mlist, pylist, '-*', label = \"python\")\n",
    "plt.plot(Mlist, nplist, '-*', label = \"numpy\")\n",
    "plt.xscale('log'); plt.yscale('log'); plt.xlabel('d'); plt.ylabel('time'); plt.grid(True)\n",
    "_=plt.legend(loc='lower right', fontsize=15)\n",
    "# <<<<< END YOUR CODE"
   ]
  },
  {
   "cell_type": "markdown",
   "metadata": {
    "collapsed": true
   },
   "source": [
    "## 4. Application to real-world data (25 P)\n",
    "\n",
    "Having now implemented an efficient K-nearest neighbor classifier, we can test it on real problems with many data points and dimensions. We consider a small handwritten digits recognition dataset, that can be directly obtained from the library `scikit-learn`. This dataset consists of handwritten digits of size `8 x 8` flattened into arrays of size `64`, with class between `0` and `9`. We use a function `data.digits()` to load the data and arrange data points in some predefined order."
   ]
  },
  {
   "cell_type": "code",
   "execution_count": 93,
   "metadata": {
    "deletable": false,
    "editable": false,
    "nbgrader": {
     "cell_type": "code",
     "checksum": "def1819cf00c1e01708f8e04fa8203c5",
     "grade": false,
     "grade_id": "cell-0af1076e9b4ee47b",
     "locked": true,
     "schema_version": 3,
     "solution": false
    }
   },
   "outputs": [
    {
     "name": "stdout",
     "output_type": "stream",
     "text": [
      "Shape of data: (1797, 64)\n",
      "Shape of labels: (1797,)\n"
     ]
    }
   ],
   "source": [
    "X, Y = data.digits()\n",
    "print('Shape of data: {}'.format(X.shape),\n",
    "      'Shape of labels: {}'.format(Y.shape),\n",
    "      sep='\\n')"
   ]
  },
  {
   "cell_type": "markdown",
   "metadata": {},
   "source": [
    "**a)** Using the function `imshow` of `matplotlib.pyplot (plt)` to visualize the first 16 digits (in a `4x4` grid) of the dataset.\n",
    "\n",
    "**Note**: Your solution should output exactly one plot and shouldn't create new figures i.e. call `plt.figure`"
   ]
  },
  {
   "cell_type": "code",
   "execution_count": 134,
   "metadata": {
    "deletable": false,
    "nbgrader": {
     "cell_type": "code",
     "checksum": "d54d8073b093742b266a35db26bfc4e5",
     "grade": true,
     "grade_id": "cell-62a66170b487f137",
     "locked": false,
     "points": 3,
     "schema_version": 3,
     "solution": true
    }
   },
   "outputs": [
    {
     "data": {
      "application/pdf": "[encoded data removed]",
      "image/png": "[encoded data removed]",
      "text/plain": [
       "<Figure size 432x288 with 1 Axes>"
      ]
     },
     "metadata": {
      "needs_background": "light"
     },
     "output_type": "display_data"
    }
   ],
   "source": [
    "def plot_first_digits():\n",
    "    '''\n",
    "    Plots the first 16 digits in the dataset in one image\n",
    "    '''\n",
    "    # >>>>> YOUR CODE HERE\n",
    "    first16 = X[0, 0:16]\n",
    "    matplotlib.pyplot.imshow(first16.reshape(4,4), interpolation='None', cmap='viridis')\n",
    "    # <<<<< END YOUR CODE\n",
    "plot_first_digits()"
   ]
  },
  {
   "cell_type": "code",
   "execution_count": null,
   "metadata": {
    "deletable": false,
    "editable": false,
    "nbgrader": {
     "cell_type": "code",
     "checksum": "8721b56fe05033ce84df42f4fc730f51",
     "grade": true,
     "grade_id": "cell-e60559d8efeccccb",
     "locked": true,
     "points": 2,
     "schema_version": 3,
     "solution": false
    }
   },
   "outputs": [],
   "source": []
  },
  {
   "cell_type": "markdown",
   "metadata": {},
   "source": [
    "**b)**\n",
    "* Partition the data into a \"training\" set and \"test\" set. The training set contains the first 1000 digits of `X`, and the test set contains the remaining ones.\n",
    "\n",
    "* Assume that you don't know the labels for the test data and classify the test data using your efficient nearest neighbor implementation.\n",
    "\n",
    "* Print the predicted labels for the test set."
   ]
  },
  {
   "cell_type": "code",
   "execution_count": 189,
   "metadata": {
    "deletable": false,
    "nbgrader": {
     "cell_type": "code",
     "checksum": "014fdba6359df120403458ba233b1e9d",
     "grade": false,
     "grade_id": "cell-b112a1903fec8961",
     "locked": false,
     "schema_version": 3,
     "solution": true
    }
   },
   "outputs": [],
   "source": [
    "def train_test_split(x: np.ndarray, y: np.ndarray):\n",
    "    '''\n",
    "    Splits the data into train and test sets\n",
    "    The first 1000 samples belong to the training set the rest to the test set\n",
    "    \n",
    "    Args:\n",
    "        x (np.ndarray): A matrix (ndim=2) containing the data\n",
    "        y (np.ndarray): A vector (ndim=1) containing the label for each datapoint\n",
    "    \n",
    "    Returns:\n",
    "        tuple: A tuple containing 4 elements. The training data, the test data, the training labels \n",
    "            and the test labels\n",
    "    '''\n",
    "    # >>>>> YOUR CODE HERE\n",
    "    x_train = X[:1000,:]\n",
    "    x_test = X[1000:,:]\n",
    "    y_train = Y[:1000]\n",
    "    y_test = Y[1000:]\n",
    "    # <<<<< END YOUR CODE\n",
    "    return x_train, x_test, y_train, y_test\n",
    "\n",
    "def predict(x_train, x_test, y_train):\n",
    "    '''\n",
    "    For each x in x_test this function finds the nearest neighbour in x_train and returns thhat label\n",
    "    Uses the `npbatch` function\n",
    "    \n",
    "    Args: \n",
    "        x_train (np.ndarray): A matrix (ndim=2) containing all the training data\n",
    "        x_test (np.ndarray): A matrix (ndim=2) containing all the test data for which we want a prediction\n",
    "        y_train (np.ndarray): A vector (ndim=1) containing the label of each datapoint in the training set\n",
    "        \n",
    "    Returns: \n",
    "        np.ndarray: A vector with the prediction for each datapoint/vector in x_test\n",
    "    '''\n",
    "    # >>>>> YOUR CODE HERE\n",
    "    y_test = npbatch(x_test, x_train, y_train)\n",
    "    # <<<<< END YOUR CODE\n",
    "    return y_test"
   ]
  },
  {
   "cell_type": "code",
   "execution_count": 190,
   "metadata": {
    "deletable": false,
    "editable": false,
    "nbgrader": {
     "cell_type": "code",
     "checksum": "50caaa50c2b540e20dbb4fc24d9e8011",
     "grade": true,
     "grade_id": "cell-7bb424481c1f04b4",
     "locked": true,
     "points": 5,
     "schema_version": 3,
     "solution": false
    }
   },
   "outputs": [],
   "source": [
    "x_train, x_test, y_train, y_test = train_test_split(X, Y)\n",
    "\n",
    "# check if types match\n",
    "assert isinstance(x_train, np.ndarray)\n",
    "assert isinstance(x_test, np.ndarray)\n",
    "assert isinstance(y_train, np.ndarray)\n",
    "assert isinstance(y_test, np.ndarray)\n",
    "\n",
    "# check if shapes match\n",
    "assert x_train.shape == (1000, 64), x_train.shape\n",
    "assert x_test.shape == (797, 64), x_test.shape\n",
    "assert y_train.shape == (1000,), y_train.shape\n",
    "assert y_test.shape == (797,), y_test.shape\n",
    "\n",
    "# check if values match\n",
    "assert y_train[0] == 7\n",
    "assert y_test[0] == 0\n",
    "\n"
   ]
  },
  {
   "cell_type": "code",
   "execution_count": null,
   "metadata": {
    "deletable": false,
    "editable": false,
    "nbgrader": {
     "cell_type": "code",
     "checksum": "8d7f73e342df528bd960f369838e940e",
     "grade": true,
     "grade_id": "cell-e7dec773a1c3d6f9",
     "locked": true,
     "points": 0,
     "schema_version": 3,
     "solution": false,
     "task": false
    }
   },
   "outputs": [],
   "source": []
  },
  {
   "cell_type": "code",
   "execution_count": 191,
   "metadata": {
    "deletable": false,
    "editable": false,
    "nbgrader": {
     "cell_type": "code",
     "checksum": "0ad2da922eb36e88a8603e4a7afeba06",
     "grade": true,
     "grade_id": "cell-e345f7975db958d5",
     "locked": true,
     "points": 2,
     "schema_version": 3,
     "solution": false,
     "task": false
    }
   },
   "outputs": [],
   "source": [
    "# check if prediction shape matches\n",
    "predictions = predict(x_train, x_test, y_train)\n",
    "assert predictions.shape == (797,)\n",
    "np.testing.assert_allclose(predictions[:3], [0, 7, 3])"
   ]
  },
  {
   "cell_type": "code",
   "execution_count": null,
   "metadata": {
    "deletable": false,
    "editable": false,
    "nbgrader": {
     "cell_type": "code",
     "checksum": "b6ddc4a090b5748543968f7de5aa22c0",
     "grade": true,
     "grade_id": "cell-f2936755c2cdb9ca",
     "locked": true,
     "points": 0,
     "schema_version": 3,
     "solution": false,
     "task": false
    }
   },
   "outputs": [],
   "source": []
  },
  {
   "cell_type": "markdown",
   "metadata": {},
   "source": [
    "**c)** \n",
    "* Finally, in order to determine the accuracy of the classifier, we would like to compare the predictions with the ground truth (i.e. the true labels from the test data).\n",
    "\n",
    "* Compute the fraction of the test set where the predictions of the nearest neighbor algorithm and labels disagree. "
   ]
  },
  {
   "cell_type": "code",
   "execution_count": 202,
   "metadata": {
    "deletable": false,
    "nbgrader": {
     "cell_type": "code",
     "checksum": "110be8ce20c03980437c6a34c03e2734",
     "grade": false,
     "grade_id": "cell-e1a0f7833241b127",
     "locked": false,
     "schema_version": 3,
     "solution": true
    }
   },
   "outputs": [],
   "source": [
    "def evaluate(x_train, x_test, y_train, y_test):\n",
    "    # >>>>> YOUR CODE HERE\n",
    "    ratio_disagree = sum(predictions == y_test)/len(y_test)\n",
    "    # <<<<< END YOUR CODE\n",
    "    return ratio_disagree"
   ]
  },
  {
   "cell_type": "code",
   "execution_count": 204,
   "metadata": {
    "deletable": false,
    "editable": false,
    "nbgrader": {
     "cell_type": "code",
     "checksum": "813dbff78a5292add692fcc24850beed",
     "grade": true,
     "grade_id": "cell-2cf51ada3daa9bb6",
     "locked": true,
     "points": 5,
     "schema_version": 3,
     "solution": false
    }
   },
   "outputs": [],
   "source": [
    "x_train, x_test, y_train, y_test = train_test_split(X, Y)\n",
    "ratio_disagree = evaluate(x_train, x_test, y_train, y_test)\n",
    "assert 0. <= ratio_disagree <= 1."
   ]
  }
 ],
 "metadata": {
  "kernelspec": {
   "display_name": "Python 3",
   "language": "python",
   "name": "python3"
  },
  "language_info": {
   "codemirror_mode": {
    "name": "ipython",
    "version": 3
   },
   "file_extension": ".py",
   "mimetype": "text/x-python",
   "name": "python",
   "nbconvert_exporter": "python",
   "pygments_lexer": "ipython3",
   "version": "3.7.4"
  }
 },
 "nbformat": 4,
 "nbformat_minor": 1
}
